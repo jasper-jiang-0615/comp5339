{
 "cells": [
  {
   "cell_type": "code",
   "id": "initial_id",
   "metadata": {
    "collapsed": true,
    "ExecuteTime": {
     "end_time": "2025-09-13T01:00:26.518216Z",
     "start_time": "2025-09-13T01:00:26.434902Z"
    }
   },
   "source": [
    "import time\n",
    "\n",
    "import pandas as pd\n",
    "import numpy as np\n",
    "import matplotlib.pyplot as plt\n",
    "import seaborn as sns\n",
    "import requests\n",
    "from urllib.parse import urljoin\n",
    "import re\n",
    "import os\n",
    "from bs4 import BeautifulSoup"
   ],
   "outputs": [],
   "execution_count": 21
  },
  {
   "metadata": {
    "ExecuteTime": {
     "end_time": "2025-09-13T00:41:23.396678Z",
     "start_time": "2025-09-13T00:41:23.387933Z"
    }
   },
   "cell_type": "code",
   "source": [
    "BASE = \"https://api.cer.gov.au/datahub-public/v1/\"\n",
    "SCHEME_ID = \"NGER\"\n",
    "YEAR_MIN, YEAR_MAX = 2014, 2024\n",
    "SAVE_DIR = \"./nger_csv\"\n",
    "session = requests.Session()\n",
    "session.headers.update({\n",
    "    \"User-Agent\": \"Mozilla/5.0 (Windows NT 10.0; Win64; x64) \"\n",
    "                  \"AppleWebKit/537.36 (KHTML, like Gecko) \"\n",
    "                  \"Chrome/124.0.0.0 Safari/537.36\"\n",
    "})\n"
   ],
   "id": "f993f190b7c5c251",
   "outputs": [],
   "execution_count": 14
  },
  {
   "metadata": {
    "ExecuteTime": {
     "end_time": "2025-09-13T00:31:25.022529Z",
     "start_time": "2025-09-13T00:31:13.819027Z"
    }
   },
   "cell_type": "code",
   "source": [
    "catalog_url = urljoin(BASE, f\"api/Schemes/{SCHEME_ID}/DatasetCatalogItems\")\n",
    "def get_json(url, params=None, timeout=15):\n",
    "    r = session.get(url, params=params, timeout=timeout)\n",
    "    r.raise_for_status()\n",
    "    return r.json()\n",
    "catalog = get_json(catalog_url)\n",
    "catelog_items = catalog.get(\"items\", catalog) if isinstance(catalog, dict) else catalog"
   ],
   "id": "98219739e0e60eec",
   "outputs": [],
   "execution_count": 5
  },
  {
   "metadata": {
    "ExecuteTime": {
     "end_time": "2025-09-13T00:42:15.565069Z",
     "start_time": "2025-09-13T00:42:15.561772Z"
    }
   },
   "cell_type": "code",
   "source": [
    "def download_file(url,filepath,timeout=30):\n",
    "    with requests.get(url, stream=True) as r:\n",
    "        r.raise_for_status()\n",
    "        os.makedirs(os.path.dirname(filepath), exist_ok=True)\n",
    "        with open(filepath, 'wb') as f:\n",
    "            for chunk in r.iter_content(chunk_size=1<<14):\n",
    "                if chunk: f.write(chunk)"
   ],
   "id": "ad2425316c435f4d",
   "outputs": [],
   "execution_count": 18
  },
  {
   "metadata": {
    "ExecuteTime": {
     "end_time": "2025-09-13T00:34:55.288747Z",
     "start_time": "2025-09-13T00:34:55.282507Z"
    }
   },
   "cell_type": "code",
   "source": [
    "pattern = re.compile(\n",
    "r\"Greenhouse and energy information by designated generation facility\\s*(20\\d{2})[–-](\\d{2})\",    re.IGNORECASE\n",
    ")"
   ],
   "id": "b2d1b7def7a82c8a",
   "outputs": [],
   "execution_count": 8
  },
  {
   "metadata": {
    "ExecuteTime": {
     "end_time": "2025-09-13T00:45:12.248739Z",
     "start_time": "2025-09-13T00:44:49.440228Z"
    }
   },
   "cell_type": "code",
   "source": [
    "dataset_url =urljoin(BASE,f'api/Dataset/{SCHEME_ID}/dataset/')\n",
    "for item in catelog_items:\n",
    "    title = item.get(\"displayName\")\n",
    "    m = pattern.search(title)\n",
    "    if m:\n",
    "        start_year = int(m.group(1))\n",
    "        end_suffix = int(m.group(2))\n",
    "        end_year = int(str(start_year)[:2] + f\"{end_suffix:02d}\")\n",
    "        if start_year < YEAR_MIN or end_year > YEAR_MAX:\n",
    "            continue\n",
    "        dataset_id = item.get(\"id\")\n",
    "        download_url = urljoin(dataset_url, f'{dataset_id}.csv')\n",
    "        print(f\"{download_url}\")\n",
    "        save_path = os.path.join(SAVE_DIR, f\"{start_year}-{end_year}.csv\")\n",
    "        print(f\"{title}  -> {start_year}-{end_year}, datasetId={dataset_id}\")\n",
    "        try:\n",
    "            print(f'Downloading -> {save_path}')\n",
    "            download_file(download_url, save_path)\n",
    "            time.sleep(1)\n",
    "        except requests.HTTPError as e:\n",
    "            print(f\"HTTP Error {e.response.status_code}\")\n",
    "print(\"All files downloaded\")"
   ],
   "id": "196a8c87f98d4b39",
   "outputs": [
    {
     "name": "stdout",
     "output_type": "stream",
     "text": [
      "https://api.cer.gov.au/datahub-public/v1/api/Dataset/NGER/dataset/ID0083.csv\n",
      "Greenhouse and energy information by designated generation facility 2022-23  -> 2022-2023, datasetId=ID0083\n",
      "Downloading -> ./nger_csv\\2022-2023.csv\n",
      "https://api.cer.gov.au/datahub-public/v1/api/Dataset/NGER/dataset/ID0079.csv\n",
      "Greenhouse and energy information by designated generation facility 2018-19  -> 2018-2019, datasetId=ID0079\n",
      "Downloading -> ./nger_csv\\2018-2019.csv\n",
      "https://api.cer.gov.au/datahub-public/v1/api/Dataset/NGER/dataset/ID0082.csv\n",
      "Greenhouse and energy information by designated generation facility 2021-22  -> 2021-2022, datasetId=ID0082\n",
      "Downloading -> ./nger_csv\\2021-2022.csv\n",
      "https://api.cer.gov.au/datahub-public/v1/api/Dataset/NGER/dataset/ID0243.csv\n",
      "Greenhouse and energy information by designated generation facility 2023–24  -> 2023-2024, datasetId=ID0243\n",
      "Downloading -> ./nger_csv\\2023-2024.csv\n",
      "https://api.cer.gov.au/datahub-public/v1/api/Dataset/NGER/dataset/ID0080.csv\n",
      "Greenhouse and energy information by designated generation facility 2019-20  -> 2019-2020, datasetId=ID0080\n",
      "Downloading -> ./nger_csv\\2019-2020.csv\n",
      "https://api.cer.gov.au/datahub-public/v1/api/Dataset/NGER/dataset/ID0076.csv\n",
      "Greenhouse and energy information by designated generation facility 2015-16  -> 2015-2016, datasetId=ID0076\n",
      "Downloading -> ./nger_csv\\2015-2016.csv\n",
      "https://api.cer.gov.au/datahub-public/v1/api/Dataset/NGER/dataset/ID0078.csv\n",
      "Greenhouse and energy information by designated generation facility 2017-18  -> 2017-2018, datasetId=ID0078\n",
      "Downloading -> ./nger_csv\\2017-2018.csv\n",
      "https://api.cer.gov.au/datahub-public/v1/api/Dataset/NGER/dataset/ID0075.csv\n",
      "Greenhouse and energy information by designated generation facility 2014-15  -> 2014-2015, datasetId=ID0075\n",
      "Downloading -> ./nger_csv\\2014-2015.csv\n",
      "https://api.cer.gov.au/datahub-public/v1/api/Dataset/NGER/dataset/ID0077.csv\n",
      "Greenhouse and energy information by designated generation facility 2016-17  -> 2016-2017, datasetId=ID0077\n",
      "Downloading -> ./nger_csv\\2016-2017.csv\n",
      "https://api.cer.gov.au/datahub-public/v1/api/Dataset/NGER/dataset/ID0081.csv\n",
      "Greenhouse and energy information by designated generation facility 2020-21  -> 2020-2021, datasetId=ID0081\n",
      "Downloading -> ./nger_csv\\2020-2021.csv\n",
      "All files downloaded\n"
     ]
    }
   ],
   "execution_count": 20
  },
  {
   "metadata": {},
   "cell_type": "markdown",
   "source": "### ABS Download Files",
   "id": "dbdc5185c910b063"
  },
  {
   "metadata": {
    "ExecuteTime": {
     "end_time": "2025-09-13T01:38:06.512093Z",
     "start_time": "2025-09-13T01:38:03.255550Z"
    }
   },
   "cell_type": "code",
   "source": [
    "PAGE_URL = 'https://cer.gov.au/markets/reports-and-data/large-scale-renewable-energy-data'\n",
    "abs_out_path = \"./abs_csv\"\n",
    "response = requests.get(PAGE_URL,timeout=15)\n",
    "response.raise_for_status()\n",
    "soup = BeautifulSoup(response.text, \"html.parser\")\n",
    "#all the files download url are the brother node under the h4 title, but after first try the h4 only has text <h4> Raw data in CSV format</h4> it has no id in the response, but at the website it  has an id called raw-data-in-csv-format so it has to be changed to find all h4 then do the regex\n",
    "for h4 in soup.find_all(\"h4\"):\n",
    "    if \"raw data in csv format\" in h4.get_text(strip=True).lower():\n",
    "        #the link is in the first brother node under the h4 which is <a> and the link is in the parameter href\n",
    "        a =h4.find_next(\"a\",attrs={\"download\":True})\n",
    "        #it is half of the download url it needs to concat with the base url, the full link can be tested and which is just the page url + href\n",
    "        href = a[\"href\"]\n",
    "        csv_url = urljoin(PAGE_URL,href)\n",
    "        if \"power-stations-and-projects\" in href or \"power stations and projects\" in href.lower():\n",
    "            print(f\"Downloading {csv_url}\")\n",
    "            file_name = os.path.basename(href)+\".csv\" \n",
    "            download_file(csv_url,os.path.join(abs_out_path,file_name))\n",
    "            time.sleep(1)\n",
    "            print(f\"Downloaded {file_name}\")\n",
    "        print(\"--------------------------------------------------------\")\n",
    "print(\"All files downloaded\")"
   ],
   "id": "d6bc9ff8cbac534f",
   "outputs": [
    {
     "name": "stdout",
     "output_type": "stream",
     "text": [
      "--------------------------------------------------------\n",
      "Downloading https://cer.gov.au/document/power-stations-and-projects-accredited\n",
      "Downloaded power-stations-and-projects-accredited.csv\n",
      "--------------------------------------------------------\n",
      "Downloading https://cer.gov.au/document/power-stations-and-projects-committed\n",
      "Downloaded power-stations-and-projects-committed.csv\n",
      "--------------------------------------------------------\n",
      "Downloading https://cer.gov.au/document/power-stations-and-projects-probable\n",
      "Downloaded power-stations-and-projects-probable.csv\n",
      "--------------------------------------------------------\n",
      "--------------------------------------------------------\n",
      "All files downloaded\n"
     ]
    }
   ],
   "execution_count": 39
  },
  {
   "metadata": {},
   "cell_type": "markdown",
   "source": "### ABS Data by Regions",
   "id": "82f10b25522d98dc"
  },
  {
   "metadata": {
    "ExecuteTime": {
     "end_time": "2025-09-13T02:17:42.580428Z",
     "start_time": "2025-09-13T02:17:42.575339Z"
    }
   },
   "cell_type": "code",
   "source": [
    "ABS_REGION_URL = \"https://www.abs.gov.au/methodologies/data-region-methodology/2011-24#data-downloads\"\n",
    "abs_region_path = \"./abs_region_xslx\"\n",
    "def download_file_from_abs_by_region(ABS_REGION_URL,region,filepath,timeout=30):\n",
    "    response = requests.get(ABS_REGION_URL,timeout=15)\n",
    "    response.raise_for_status()\n",
    "    soup = BeautifulSoup(response.text, \"html.parser\")\n",
    "    h4 = soup.find(\"h4\",string=lambda t: t and region in t)\n",
    "    if not h4:\n",
    "        raise SystemExit(\"Not find such h4\")\n",
    "    parent = h4.find_parent(\"l1\",class_=\"field__item\")\n",
    "    a = parent.find_next(\"a\",href=True) if parent else h4.find_next(\"a\",href=True)\n",
    "    if not a:\n",
    "        raise SystemExit(\"Not find such download link\")\n",
    "    href = a[\"href\"]\n",
    "    file_url = urljoin(ABS_REGION_URL,href)\n",
    "    print(f\"Downloading {file_url}\")\n",
    "    label = a['aria-label']\n",
    "    file_name =label+\".xlsx\"\n",
    "    download_file(file_url,os.path.join(filepath,file_name))\n",
    "    print(f\"Downloaded {file_name}\")"
   ],
   "id": "da66c022b7c2d6e6",
   "outputs": [],
   "execution_count": 43
  },
  {
   "metadata": {
    "ExecuteTime": {
     "end_time": "2025-09-13T02:17:49.924721Z",
     "start_time": "2025-09-13T02:17:44.176011Z"
    }
   },
   "cell_type": "code",
   "source": [
    "economy_region='Economy and industry, ASGS and LGA, 2011, 2016-2024'\n",
    "population_region =\"Population and people, ASGS, LGA, and RA, 2011, 2016-2024\"\n",
    "download_file_from_abs_by_region(ABS_REGION_URL,economy_region,abs_region_path)\n",
    "download_file_from_abs_by_region(ABS_REGION_URL,population_region,abs_region_path)"
   ],
   "id": "afb53a26233c195c",
   "outputs": [
    {
     "name": "stdout",
     "output_type": "stream",
     "text": [
      "Downloading https://www.abs.gov.au/methodologies/data-region-methodology/2011-24/14100DO0003_2011-24.xlsx\n",
      "Downloaded Download - Economy and industry, ASGS and LGA, 2011, 2016-2024 xlsx 18.75 MB.xlsx\n",
      "Downloading https://www.abs.gov.au/methodologies/data-region-methodology/2011-24/14100DO0001_2011-24.xlsx\n",
      "Downloaded Download - Population and people, ASGS, LGA, and RA, 2011, 2016-2024 xlsx 26.03 MB.xlsx\n"
     ]
    }
   ],
   "execution_count": 44
  }
 ],
 "metadata": {
  "kernelspec": {
   "display_name": "Python 3",
   "language": "python",
   "name": "python3"
  },
  "language_info": {
   "codemirror_mode": {
    "name": "ipython",
    "version": 2
   },
   "file_extension": ".py",
   "mimetype": "text/x-python",
   "name": "python",
   "nbconvert_exporter": "python",
   "pygments_lexer": "ipython2",
   "version": "2.7.6"
  }
 },
 "nbformat": 4,
 "nbformat_minor": 5
}
